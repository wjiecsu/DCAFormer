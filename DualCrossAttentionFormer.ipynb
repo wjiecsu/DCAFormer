{
 "cells": [
  {
   "cell_type": "code",
   "execution_count": 1,
   "metadata": {},
   "outputs": [],
   "source": [
    "import argparse\n",
    "from   torch.utils.data import Dataset\n",
    "import torch\n",
    "from   DCAFormer import DCAFormerModel\n",
    "import torch.nn as nn\n",
    "import numpy as np\n",
    "import pandas as pd\n",
    "import matplotlib.pyplot as plt\n",
    "from   sklearn.metrics import mean_squared_error, r2_score\n",
    "import seaborn as sns\n",
    "from   dataset_utils import myDataset,inversenormlization\n",
    "from   train_networks import *"
   ]
  },
  {
   "cell_type": "code",
   "execution_count": 2,
   "metadata": {},
   "outputs": [],
   "source": [
    "def test_main(model, test_loader, device):\n",
    "    y_pred = []\n",
    "    y_true = []\n",
    "    val_epoch_loss = []\n",
    "    model.eval()\n",
    "    criterion = nn.MSELoss()\n",
    "    with torch.no_grad():\n",
    "        for index, (inputs, targets) in enumerate(test_loader):\n",
    "            inputs = inputs.type(torch.FloatTensor).to(device)\n",
    "            targets = targets.type(torch.FloatTensor).to(device)\n",
    "            outputs = model(inputs)\n",
    "            loss = criterion(outputs, targets)\n",
    "            y_pred.append(outputs)\n",
    "            y_true.append(targets)\n",
    "            val_epoch_loss.append(loss.item())\n",
    "        epoch_loss = np.mean(val_epoch_loss)\n",
    "        y_pred = torch.cat(y_pred, 0).cpu().detach().numpy()\n",
    "        y_true = torch.cat(y_true, 0).cpu().detach().numpy()\n",
    "    return y_true, y_pred, epoch_loss"
   ]
  },
  {
   "cell_type": "code",
   "execution_count": 3,
   "metadata": {},
   "outputs": [],
   "source": [
    "if __name__==\"__main__\":\n",
    "    # 构造\n",
    "    parser = argparse.ArgumentParser(description='TimesNet')\n",
    "    #数据集参数\n",
    "    parser.add_argument('--enc_in',     type=int,   default=12,        help='encoder input size')\n",
    "    parser.add_argument('--seq_len',    type=int,   default=7,         help='input sequence length')\n",
    "    parser.add_argument('--pred_len',   type=int,   default=1,         help='prediction sequence length')\n",
    "    \n",
    "    # Cross Variable Attention\n",
    "    parser.add_argument('--d_model1',   type=int,   default=7,         help='dimension of Seq_len for  variable Attention')    \n",
    "    parser.add_argument('--n_heads1',    type=int,   default=7,        help='num of heads')\n",
    "    parser.add_argument('--d_ff1',       type=int,   default=640,      help='dimension of fcn')\n",
    "    \n",
    "\n",
    "    #Cross Time Attention   \n",
    "    parser.add_argument('--d_model2',    type=int,   default=12,         help='dimension of Variables for time Attention')\n",
    "    parser.add_argument('--n_heads2',    type=int,   default=4,         help='num of heads')\n",
    "    parser.add_argument('--num_MLPlayer', default=1,help='learning the delta and tea MLP parameter')\n",
    "    parser.add_argument('--hidden_dims',  default=[8],help='learning the delta and tea MLP parameter')\n",
    "    parser.add_argument('--d_ff2',        type=int,   default=640,      help='dimension of fcn')\n",
    "    \n",
    "    #Same Parameters\n",
    "    parser.add_argument('--e_layers',   type=int,   default=1,         help='num of encoder layers')\n",
    "    parser.add_argument('--dropout',    type=float, default=0.1,       help='dropout')\n",
    "    parser.add_argument('--activation', type=str,   default='relu',    help='activation')\n",
    "    parser.add_argument('--output_attention',       default=False,     help='whether to output attention in ecoder')\n",
    "    args = parser.parse_args([])\n",
    "    \n",
    "    # 训练参数\n",
    "    device = torch.device(\"cuda\" if torch.cuda.is_available() else \"cpu\")\n",
    "    datamax=943\n",
    "    datamin=920\n",
    "\n",
    "    # 数据集\n",
    "    train_loader =torch.load('../dataset/train_loader.pth')\n",
    "    test_loader =torch.load('../dataset/test_loader.pth')\n",
    "    max_epoches=50\n",
    "    torch.manual_seed(1)"
   ]
  },
  {
   "cell_type": "code",
   "execution_count": 4,
   "metadata": {},
   "outputs": [
    {
     "name": "stderr",
     "output_type": "stream",
     "text": [
      "  0%|          | 0/50 [00:00<?, ?it/s]F:\\Anaconda3\\envs\\PyTc\\Lib\\site-packages\\torch\\nn\\modules\\loss.py:528: UserWarning: Using a target size (torch.Size([1, 1])) that is different to the input size (torch.Size([1])). This will likely lead to incorrect results due to broadcasting. Please ensure they have the same size.\n",
      "  return F.mse_loss(input, target, reduction=self.reduction)\n",
      "F:\\Anaconda3\\envs\\PyTc\\Lib\\site-packages\\torch\\nn\\modules\\loss.py:528: UserWarning: Using a target size (torch.Size([1])) that is different to the input size (torch.Size([1, 1])). This will likely lead to incorrect results due to broadcasting. Please ensure they have the same size.\n",
      "  return F.mse_loss(input, target, reduction=self.reduction)\n",
      "  2%|▏         | 1/50 [00:08<06:58,  8.55s/it]"
     ]
    },
    {
     "name": "stdout",
     "output_type": "stream",
     "text": [
      "epoch: 0 train_epoch_loss: 0.05422516692741157 val_epoch_loss: 0.036725359768282825\n",
      "best_test_loss  ------------------------------------------------- 0.036725359768282825\n"
     ]
    },
    {
     "name": "stderr",
     "output_type": "stream",
     "text": [
      "  4%|▍         | 2/50 [00:15<06:03,  7.58s/it]"
     ]
    },
    {
     "name": "stdout",
     "output_type": "stream",
     "text": [
      "epoch: 1 train_epoch_loss: 0.02686553920914997 val_epoch_loss: 0.016177061545020462\n",
      "best_test_loss  ------------------------------------------------- 0.016177061545020462\n"
     ]
    },
    {
     "name": "stderr",
     "output_type": "stream",
     "text": [
      "  6%|▌         | 3/50 [00:22<05:41,  7.26s/it]"
     ]
    },
    {
     "name": "stdout",
     "output_type": "stream",
     "text": [
      "epoch: 2 train_epoch_loss: 0.01760226058871763 val_epoch_loss: 0.013665821052236718\n",
      "best_test_loss  ------------------------------------------------- 0.013665821052236718\n"
     ]
    },
    {
     "name": "stderr",
     "output_type": "stream",
     "text": [
      "  8%|▊         | 4/50 [00:29<05:29,  7.15s/it]"
     ]
    },
    {
     "name": "stdout",
     "output_type": "stream",
     "text": [
      "epoch: 3 train_epoch_loss: 0.016916506144636155 val_epoch_loss: 0.013324320790297127\n",
      "best_test_loss  ------------------------------------------------- 0.013324320790297127\n"
     ]
    },
    {
     "name": "stderr",
     "output_type": "stream",
     "text": [
      " 10%|█         | 5/50 [00:36<05:18,  7.09s/it]"
     ]
    },
    {
     "name": "stdout",
     "output_type": "stream",
     "text": [
      "epoch: 4 train_epoch_loss: 0.016126920507055192 val_epoch_loss: 0.012768137038377855\n",
      "best_test_loss  ------------------------------------------------- 0.012768137038377855\n"
     ]
    },
    {
     "name": "stderr",
     "output_type": "stream",
     "text": [
      " 12%|█▏        | 6/50 [00:42<05:03,  6.91s/it]"
     ]
    },
    {
     "name": "stdout",
     "output_type": "stream",
     "text": [
      "epoch: 5 train_epoch_loss: 0.015276706428520113 val_epoch_loss: 0.012255620352393195\n",
      "best_test_loss  ------------------------------------------------- 0.012255620352393195\n"
     ]
    },
    {
     "name": "stderr",
     "output_type": "stream",
     "text": [
      " 14%|█▍        | 7/50 [00:49<04:47,  6.68s/it]"
     ]
    },
    {
     "name": "stdout",
     "output_type": "stream",
     "text": [
      "epoch: 6 train_epoch_loss: 0.015102018986282098 val_epoch_loss: 0.011710337590823055\n",
      "best_test_loss  ------------------------------------------------- 0.011710337590823055\n"
     ]
    },
    {
     "name": "stderr",
     "output_type": "stream",
     "text": [
      " 16%|█▌        | 8/50 [00:55<04:32,  6.48s/it]"
     ]
    },
    {
     "name": "stdout",
     "output_type": "stream",
     "text": [
      "epoch: 7 train_epoch_loss: 0.014242699849487214 val_epoch_loss: 0.011032493647022766\n",
      "best_test_loss  ------------------------------------------------- 0.011032493647022766\n"
     ]
    },
    {
     "name": "stderr",
     "output_type": "stream",
     "text": [
      " 18%|█▊        | 9/50 [01:01<04:20,  6.35s/it]"
     ]
    },
    {
     "name": "stdout",
     "output_type": "stream",
     "text": [
      "epoch: 8 train_epoch_loss: 0.013928940056802916 val_epoch_loss: 0.01120104823574924\n"
     ]
    },
    {
     "name": "stderr",
     "output_type": "stream",
     "text": [
      " 20%|██        | 10/50 [01:07<04:10,  6.25s/it]"
     ]
    },
    {
     "name": "stdout",
     "output_type": "stream",
     "text": [
      "epoch: 9 train_epoch_loss: 0.013565600585401785 val_epoch_loss: 0.010691067437128074\n",
      "best_test_loss  ------------------------------------------------- 0.010691067437128074\n"
     ]
    },
    {
     "name": "stderr",
     "output_type": "stream",
     "text": [
      " 22%|██▏       | 11/50 [01:13<04:01,  6.18s/it]"
     ]
    },
    {
     "name": "stdout",
     "output_type": "stream",
     "text": [
      "epoch: 10 train_epoch_loss: 0.013102350328786216 val_epoch_loss: 0.010476444537448882\n",
      "best_test_loss  ------------------------------------------------- 0.010476444537448882\n"
     ]
    },
    {
     "name": "stderr",
     "output_type": "stream",
     "text": [
      " 24%|██▍       | 12/50 [01:19<03:54,  6.16s/it]"
     ]
    },
    {
     "name": "stdout",
     "output_type": "stream",
     "text": [
      "epoch: 11 train_epoch_loss: 0.012918780058774677 val_epoch_loss: 0.0108413458029744\n"
     ]
    },
    {
     "name": "stderr",
     "output_type": "stream",
     "text": [
      " 26%|██▌       | 13/50 [01:25<03:50,  6.22s/it]"
     ]
    },
    {
     "name": "stdout",
     "output_type": "stream",
     "text": [
      "epoch: 12 train_epoch_loss: 0.012651679464638126 val_epoch_loss: 0.011217903152021152\n"
     ]
    },
    {
     "name": "stderr",
     "output_type": "stream",
     "text": [
      " 28%|██▊       | 14/50 [01:31<03:42,  6.17s/it]"
     ]
    },
    {
     "name": "stdout",
     "output_type": "stream",
     "text": [
      "epoch: 13 train_epoch_loss: 0.011846628970864853 val_epoch_loss: 0.010979153405728428\n"
     ]
    },
    {
     "name": "stderr",
     "output_type": "stream",
     "text": [
      " 30%|███       | 15/50 [01:37<03:34,  6.14s/it]"
     ]
    },
    {
     "name": "stdout",
     "output_type": "stream",
     "text": [
      "epoch: 14 train_epoch_loss: 0.01170757945060767 val_epoch_loss: 0.009082083926688852\n",
      "best_test_loss  ------------------------------------------------- 0.009082083926688852\n"
     ]
    },
    {
     "name": "stderr",
     "output_type": "stream",
     "text": [
      " 32%|███▏      | 16/50 [01:44<03:34,  6.32s/it]"
     ]
    },
    {
     "name": "stdout",
     "output_type": "stream",
     "text": [
      "epoch: 15 train_epoch_loss: 0.01114386074630204 val_epoch_loss: 0.010815602764574989\n"
     ]
    },
    {
     "name": "stderr",
     "output_type": "stream",
     "text": [
      " 34%|███▍      | 17/50 [01:51<03:33,  6.46s/it]"
     ]
    },
    {
     "name": "stdout",
     "output_type": "stream",
     "text": [
      "epoch: 16 train_epoch_loss: 0.011268808797116097 val_epoch_loss: 0.010165783155600601\n"
     ]
    },
    {
     "name": "stderr",
     "output_type": "stream",
     "text": [
      " 36%|███▌      | 18/50 [01:57<03:23,  6.37s/it]"
     ]
    },
    {
     "name": "stdout",
     "output_type": "stream",
     "text": [
      "epoch: 17 train_epoch_loss: 0.0108827046246215 val_epoch_loss: 0.009643401654095156\n"
     ]
    },
    {
     "name": "stderr",
     "output_type": "stream",
     "text": [
      " 38%|███▊      | 19/50 [02:03<03:15,  6.31s/it]"
     ]
    },
    {
     "name": "stdout",
     "output_type": "stream",
     "text": [
      "epoch: 18 train_epoch_loss: 0.010129651966930407 val_epoch_loss: 0.011025231496278725\n"
     ]
    },
    {
     "name": "stderr",
     "output_type": "stream",
     "text": [
      " 40%|████      | 20/50 [02:09<03:07,  6.25s/it]"
     ]
    },
    {
     "name": "stdout",
     "output_type": "stream",
     "text": [
      "epoch: 19 train_epoch_loss: 0.010149961971782393 val_epoch_loss: 0.01105207987644928\n"
     ]
    },
    {
     "name": "stderr",
     "output_type": "stream",
     "text": [
      " 42%|████▏     | 21/50 [02:15<03:00,  6.21s/it]"
     ]
    },
    {
     "name": "stdout",
     "output_type": "stream",
     "text": [
      "epoch: 20 train_epoch_loss: 0.009865761434088438 val_epoch_loss: 0.010793335034324423\n"
     ]
    },
    {
     "name": "stderr",
     "output_type": "stream",
     "text": [
      " 44%|████▍     | 22/50 [02:22<02:59,  6.39s/it]"
     ]
    },
    {
     "name": "stdout",
     "output_type": "stream",
     "text": [
      "epoch: 21 train_epoch_loss: 0.009358951433353777 val_epoch_loss: 0.011512097354941173\n"
     ]
    },
    {
     "name": "stderr",
     "output_type": "stream",
     "text": [
      " 46%|████▌     | 23/50 [02:29<02:56,  6.53s/it]"
     ]
    },
    {
     "name": "stdout",
     "output_type": "stream",
     "text": [
      "epoch: 22 train_epoch_loss: 0.009193770965339227 val_epoch_loss: 0.011912367187535218\n"
     ]
    },
    {
     "name": "stderr",
     "output_type": "stream",
     "text": [
      " 48%|████▊     | 24/50 [02:35<02:46,  6.42s/it]"
     ]
    },
    {
     "name": "stdout",
     "output_type": "stream",
     "text": [
      "epoch: 23 train_epoch_loss: 0.009197752387499591 val_epoch_loss: 0.013010540945493455\n"
     ]
    },
    {
     "name": "stderr",
     "output_type": "stream",
     "text": [
      " 50%|█████     | 25/50 [02:41<02:37,  6.31s/it]"
     ]
    },
    {
     "name": "stdout",
     "output_type": "stream",
     "text": [
      "epoch: 24 train_epoch_loss: 0.008296830384957092 val_epoch_loss: 0.012457172616245037\n"
     ]
    },
    {
     "name": "stderr",
     "output_type": "stream",
     "text": [
      " 52%|█████▏    | 26/50 [02:47<02:29,  6.25s/it]"
     ]
    },
    {
     "name": "stdout",
     "output_type": "stream",
     "text": [
      "epoch: 25 train_epoch_loss: 0.008413732556458532 val_epoch_loss: 0.013430956499673226\n"
     ]
    },
    {
     "name": "stderr",
     "output_type": "stream",
     "text": [
      " 54%|█████▍    | 27/50 [02:53<02:22,  6.19s/it]"
     ]
    },
    {
     "name": "stdout",
     "output_type": "stream",
     "text": [
      "epoch: 26 train_epoch_loss: 0.008086085173590498 val_epoch_loss: 0.011256038521882176\n"
     ]
    },
    {
     "name": "stderr",
     "output_type": "stream",
     "text": [
      " 56%|█████▌    | 28/50 [02:59<02:14,  6.13s/it]"
     ]
    },
    {
     "name": "stdout",
     "output_type": "stream",
     "text": [
      "epoch: 27 train_epoch_loss: 0.007944049473127551 val_epoch_loss: 0.012863378584887687\n"
     ]
    },
    {
     "name": "stderr",
     "output_type": "stream",
     "text": [
      " 58%|█████▊    | 29/50 [03:05<02:08,  6.10s/it]"
     ]
    },
    {
     "name": "stdout",
     "output_type": "stream",
     "text": [
      "epoch: 28 train_epoch_loss: 0.00748341189467471 val_epoch_loss: 0.01201602866777032\n"
     ]
    },
    {
     "name": "stderr",
     "output_type": "stream",
     "text": [
      " 60%|██████    | 30/50 [03:11<02:01,  6.07s/it]"
     ]
    },
    {
     "name": "stdout",
     "output_type": "stream",
     "text": [
      "epoch: 29 train_epoch_loss: 0.007288214809009763 val_epoch_loss: 0.013429339415471342\n"
     ]
    },
    {
     "name": "stderr",
     "output_type": "stream",
     "text": [
      " 62%|██████▏   | 31/50 [03:17<01:54,  6.05s/it]"
     ]
    },
    {
     "name": "stdout",
     "output_type": "stream",
     "text": [
      "epoch: 30 train_epoch_loss: 0.007373963013776553 val_epoch_loss: 0.012420006872118958\n"
     ]
    },
    {
     "name": "stderr",
     "output_type": "stream",
     "text": [
      " 64%|██████▍   | 32/50 [03:23<01:48,  6.04s/it]"
     ]
    },
    {
     "name": "stdout",
     "output_type": "stream",
     "text": [
      "epoch: 31 train_epoch_loss: 0.006847928056974547 val_epoch_loss: 0.013953337029673298\n"
     ]
    },
    {
     "name": "stderr",
     "output_type": "stream",
     "text": [
      " 66%|██████▌   | 33/50 [03:30<01:42,  6.04s/it]"
     ]
    },
    {
     "name": "stdout",
     "output_type": "stream",
     "text": [
      "epoch: 32 train_epoch_loss: 0.007013302737354254 val_epoch_loss: 0.014243491964434944\n"
     ]
    },
    {
     "name": "stderr",
     "output_type": "stream",
     "text": [
      " 68%|██████▊   | 34/50 [03:36<01:36,  6.03s/it]"
     ]
    },
    {
     "name": "stdout",
     "output_type": "stream",
     "text": [
      "epoch: 33 train_epoch_loss: 0.006650595834504737 val_epoch_loss: 0.015432351245518446\n"
     ]
    },
    {
     "name": "stderr",
     "output_type": "stream",
     "text": [
      " 70%|███████   | 35/50 [03:42<01:30,  6.02s/it]"
     ]
    },
    {
     "name": "stdout",
     "output_type": "stream",
     "text": [
      "epoch: 34 train_epoch_loss: 0.006618086056931491 val_epoch_loss: 0.015060391413543027\n"
     ]
    },
    {
     "name": "stderr",
     "output_type": "stream",
     "text": [
      " 72%|███████▏  | 36/50 [03:48<01:24,  6.02s/it]"
     ]
    },
    {
     "name": "stdout",
     "output_type": "stream",
     "text": [
      "epoch: 35 train_epoch_loss: 0.006071291040179177 val_epoch_loss: 0.014317965913813355\n"
     ]
    },
    {
     "name": "stderr",
     "output_type": "stream",
     "text": [
      " 74%|███████▍  | 37/50 [03:54<01:18,  6.05s/it]"
     ]
    },
    {
     "name": "stdout",
     "output_type": "stream",
     "text": [
      "epoch: 36 train_epoch_loss: 0.006267828840014519 val_epoch_loss: 0.012582971755041545\n"
     ]
    },
    {
     "name": "stderr",
     "output_type": "stream",
     "text": [
      " 76%|███████▌  | 38/50 [04:00<01:12,  6.07s/it]"
     ]
    },
    {
     "name": "stdout",
     "output_type": "stream",
     "text": [
      "epoch: 37 train_epoch_loss: 0.006281665865436729 val_epoch_loss: 0.012644988746424427\n"
     ]
    },
    {
     "name": "stderr",
     "output_type": "stream",
     "text": [
      " 78%|███████▊  | 39/50 [04:06<01:07,  6.17s/it]"
     ]
    },
    {
     "name": "stdout",
     "output_type": "stream",
     "text": [
      "epoch: 38 train_epoch_loss: 0.005864575445804599 val_epoch_loss: 0.014067398129642947\n"
     ]
    },
    {
     "name": "stderr",
     "output_type": "stream",
     "text": [
      " 80%|████████  | 40/50 [04:13<01:03,  6.39s/it]"
     ]
    },
    {
     "name": "stdout",
     "output_type": "stream",
     "text": [
      "epoch: 39 train_epoch_loss: 0.005179963205804328 val_epoch_loss: 0.01321136993130729\n"
     ]
    },
    {
     "name": "stderr",
     "output_type": "stream",
     "text": [
      " 82%|████████▏ | 41/50 [04:20<00:59,  6.57s/it]"
     ]
    },
    {
     "name": "stdout",
     "output_type": "stream",
     "text": [
      "epoch: 40 train_epoch_loss: 0.005871021098202023 val_epoch_loss: 0.01350217861595562\n"
     ]
    },
    {
     "name": "stderr",
     "output_type": "stream",
     "text": [
      " 84%|████████▍ | 42/50 [04:27<00:53,  6.75s/it]"
     ]
    },
    {
     "name": "stdout",
     "output_type": "stream",
     "text": [
      "epoch: 41 train_epoch_loss: 0.00511879728713143 val_epoch_loss: 0.014328364790931265\n"
     ]
    },
    {
     "name": "stderr",
     "output_type": "stream",
     "text": [
      " 86%|████████▌ | 43/50 [04:34<00:47,  6.80s/it]"
     ]
    },
    {
     "name": "stdout",
     "output_type": "stream",
     "text": [
      "epoch: 42 train_epoch_loss: 0.005247161673376912 val_epoch_loss: 0.013505278697446174\n"
     ]
    },
    {
     "name": "stderr",
     "output_type": "stream",
     "text": [
      " 88%|████████▊ | 44/50 [04:41<00:41,  6.84s/it]"
     ]
    },
    {
     "name": "stdout",
     "output_type": "stream",
     "text": [
      "epoch: 43 train_epoch_loss: 0.004611575292293634 val_epoch_loss: 0.014709915148805227\n"
     ]
    },
    {
     "name": "stderr",
     "output_type": "stream",
     "text": [
      " 90%|█████████ | 45/50 [04:48<00:34,  6.87s/it]"
     ]
    },
    {
     "name": "stdout",
     "output_type": "stream",
     "text": [
      "epoch: 44 train_epoch_loss: 0.00511842441867294 val_epoch_loss: 0.013957420685455286\n"
     ]
    },
    {
     "name": "stderr",
     "output_type": "stream",
     "text": [
      " 92%|█████████▏| 46/50 [04:55<00:27,  6.90s/it]"
     ]
    },
    {
     "name": "stdout",
     "output_type": "stream",
     "text": [
      "epoch: 45 train_epoch_loss: 0.004750291638254871 val_epoch_loss: 0.015592536931253122\n"
     ]
    },
    {
     "name": "stderr",
     "output_type": "stream",
     "text": [
      " 94%|█████████▍| 47/50 [05:02<00:20,  6.93s/it]"
     ]
    },
    {
     "name": "stdout",
     "output_type": "stream",
     "text": [
      "epoch: 46 train_epoch_loss: 0.004467060132319835 val_epoch_loss: 0.014629305508745551\n"
     ]
    },
    {
     "name": "stderr",
     "output_type": "stream",
     "text": [
      " 96%|█████████▌| 48/50 [05:09<00:13,  6.99s/it]"
     ]
    },
    {
     "name": "stdout",
     "output_type": "stream",
     "text": [
      "epoch: 47 train_epoch_loss: 0.004622714540370841 val_epoch_loss: 0.01579601706456869\n"
     ]
    },
    {
     "name": "stderr",
     "output_type": "stream",
     "text": [
      " 98%|█████████▊| 49/50 [05:16<00:07,  7.07s/it]"
     ]
    },
    {
     "name": "stdout",
     "output_type": "stream",
     "text": [
      "epoch: 48 train_epoch_loss: 0.004468220946923146 val_epoch_loss: 0.015384231315795572\n"
     ]
    },
    {
     "name": "stderr",
     "output_type": "stream",
     "text": [
      "100%|██████████| 50/50 [05:23<00:00,  6.48s/it]"
     ]
    },
    {
     "name": "stdout",
     "output_type": "stream",
     "text": [
      "epoch: 49 train_epoch_loss: 0.004540326077509811 val_epoch_loss: 0.015789082867359545\n",
      "model structure: DCAFormerModel(\n",
      "  (crossVariable_encoder): Encoder(\n",
      "    (attn_layers): ModuleList(\n",
      "      (0): EncoderLayer(\n",
      "        (attention): AttentionLayer(\n",
      "          (inner_attention): FullAttention(\n",
      "            (dropout): Dropout(p=0.1, inplace=False)\n",
      "          )\n",
      "          (query_projection): Linear(in_features=7, out_features=7, bias=True)\n",
      "          (key_projection): Linear(in_features=7, out_features=7, bias=True)\n",
      "          (value_projection): Linear(in_features=7, out_features=7, bias=True)\n",
      "          (out_projection): Linear(in_features=7, out_features=7, bias=True)\n",
      "        )\n",
      "        (conv1): Conv1d(7, 640, kernel_size=(1,), stride=(1,))\n",
      "        (conv2): Conv1d(640, 7, kernel_size=(1,), stride=(1,))\n",
      "        (norm1): LayerNorm((7,), eps=1e-05, elementwise_affine=True)\n",
      "        (norm2): LayerNorm((7,), eps=1e-05, elementwise_affine=True)\n",
      "        (dropout): Dropout(p=0.1, inplace=False)\n",
      "      )\n",
      "    )\n",
      "    (norm): LayerNorm((7,), eps=1e-05, elementwise_affine=True)\n",
      "  )\n",
      "  (src_encoder): Linear(in_features=12, out_features=12, bias=True)\n",
      "  (positionEncoder): PositionalEncoding()\n",
      "  (crossTime_encoder): Encoder(\n",
      "    (attn_layers): ModuleList(\n",
      "      (0): EncoderLayer(\n",
      "        (attention): AttentionLayer(\n",
      "          (inner_attention): DSAttention(\n",
      "            (dropout): Dropout(p=0.1, inplace=False)\n",
      "          )\n",
      "          (query_projection): Linear(in_features=12, out_features=12, bias=True)\n",
      "          (key_projection): Linear(in_features=12, out_features=12, bias=True)\n",
      "          (value_projection): Linear(in_features=12, out_features=12, bias=True)\n",
      "          (out_projection): Linear(in_features=12, out_features=12, bias=True)\n",
      "        )\n",
      "        (conv1): Conv1d(12, 640, kernel_size=(1,), stride=(1,))\n",
      "        (conv2): Conv1d(640, 12, kernel_size=(1,), stride=(1,))\n",
      "        (norm1): LayerNorm((12,), eps=1e-05, elementwise_affine=True)\n",
      "        (norm2): LayerNorm((12,), eps=1e-05, elementwise_affine=True)\n",
      "        (dropout): Dropout(p=0.1, inplace=False)\n",
      "      )\n",
      "    )\n",
      "    (norm): LayerNorm((12,), eps=1e-05, elementwise_affine=True)\n",
      "  )\n",
      "  (tau_learner): Projector(\n",
      "    (series_conv): Conv1d(7, 1, kernel_size=(3,), stride=(1,), padding=(1,), bias=False, padding_mode=circular)\n",
      "    (backbone): Sequential(\n",
      "      (0): Linear(in_features=24, out_features=8, bias=True)\n",
      "      (1): ReLU()\n",
      "      (2): Linear(in_features=8, out_features=1, bias=False)\n",
      "    )\n",
      "  )\n",
      "  (delta_learner): Projector(\n",
      "    (series_conv): Conv1d(7, 1, kernel_size=(3,), stride=(1,), padding=(1,), bias=False, padding_mode=circular)\n",
      "    (backbone): Sequential(\n",
      "      (0): Linear(in_features=24, out_features=8, bias=True)\n",
      "      (1): ReLU()\n",
      "      (2): Linear(in_features=8, out_features=7, bias=False)\n",
      "    )\n",
      "  )\n",
      "  (proj): Linear(in_features=23, out_features=1, bias=True)\n",
      ")\n",
      "Parameter containing:\n",
      "tensor([-0.0534], device='cuda:0', requires_grad=True) Parameter containing:\n",
      "tensor([1.], device='cuda:0', requires_grad=True)\n",
      "\n",
      "测试集的相关系数： 0.7627323759763125\n"
     ]
    },
    {
     "name": "stderr",
     "output_type": "stream",
     "text": [
      "\n"
     ]
    }
   ],
   "source": [
    "model= DCAFormerModel(args).to(device)\n",
    "R2List=[]\n",
    "for i in range(1):\n",
    "    train_Transformer(model,train_loader, test_loader, max_epoches,'./', 'DCAFormer', device)\n",
    "    model= DCAFormerModel(args).to(device)\n",
    "    print('model structure:',model)\n",
    "    model.load_state_dict(torch.load('./best_DCAFormer.pth'))\n",
    "    print(model.alpha,model.belta)\n",
    "    y_true, y_pred, epoch_loss=test_main(model, test_loader, device)\n",
    "    R2=r2_score(y_true, y_pred)\n",
    "    R2List.append(R2)\n",
    "    print('\\n测试集的相关系数：', r2_score(y_true, y_pred))"
   ]
  },
  {
   "cell_type": "code",
   "execution_count": 5,
   "metadata": {},
   "outputs": [
    {
     "name": "stdout",
     "output_type": "stream",
     "text": [
      "均值： 0.7627323759763125\n",
      "All: [0.7627323759763125]\n"
     ]
    }
   ],
   "source": [
    "print('均值：',np.mean(R2List))\n",
    "print('All:',R2List )"
   ]
  },
  {
   "cell_type": "code",
   "execution_count": 6,
   "metadata": {},
   "outputs": [
    {
     "name": "stdout",
     "output_type": "stream",
     "text": [
      "torch.Size([62, 7, 12]) torch.Size([62])\n"
     ]
    }
   ],
   "source": [
    "import torch.nn as nn\n",
    "import torch.optim as optim\n",
    "\n",
    "train_data=[]\n",
    "train_target_data=[]\n",
    "for index, (inputs, targets) in enumerate(train_loader):\n",
    "    train_data.append(inputs)\n",
    "    train_target_data.append(targets)\n",
    "train_data=torch.cat(train_data,0)\n",
    "train_target_data=torch.cat(train_target_data,0)\n",
    "test_data=[]\n",
    "test_target_data=[]\n",
    "for index, (inputs, targets) in enumerate(test_loader):\n",
    "    test_data.append(inputs)\n",
    "    test_target_data.append(targets)\n",
    "test_data=torch.cat(test_data,0)\n",
    "test_target_data=torch.cat(test_target_data,0)\n",
    "print(test_data.shape,test_target_data.shape)"
   ]
  },
  {
   "cell_type": "code",
   "execution_count": 7,
   "metadata": {},
   "outputs": [
    {
     "name": "stdout",
     "output_type": "stream",
     "text": [
      "(663, 7, 11, 11)\n",
      "(663, 4, 7, 7)\n"
     ]
    },
    {
     "data": {
      "text/plain": [
       "(array([0.5, 1.5, 2.5, 3.5, 4.5, 5.5, 6.5]),\n",
       " [Text(0, 0.5, '0'),\n",
       "  Text(0, 1.5, '1'),\n",
       "  Text(0, 2.5, '2'),\n",
       "  Text(0, 3.5, '3'),\n",
       "  Text(0, 4.5, '4'),\n",
       "  Text(0, 5.5, '5'),\n",
       "  Text(0, 6.5, '6')])"
      ]
     },
     "execution_count": 7,
     "metadata": {},
     "output_type": "execute_result"
    },
    {
     "data": {
      "image/png": "[encoded data removed]",
      "text/plain": [
       "<Figure size 450x350 with 2 Axes>"
      ]
     },
     "metadata": {},
     "output_type": "display_data"
    },
    {
     "data": {
      "image/png": "[encoded data removed]",
      "text/plain": [
       "<Figure size 450x350 with 2 Axes>"
      ]
     },
     "metadata": {},
     "output_type": "display_data"
    }
   ],
   "source": [
    "args.output_attention=True\n",
    "model= DCAFormerModel(args).to(device)\n",
    "model.load_state_dict(torch.load('./best_DCAFormer.pth'))\n",
    "outputs,att1,att2 = model(train_data.to(device))\n",
    "atten_matrix1=att1[0].cpu().detach().numpy()\n",
    "atten_matrix2=att2[0].cpu().detach().numpy()\n",
    "\n",
    "print(atten_matrix1.shape)#[B, H, D, D]\n",
    "print(atten_matrix2.shape)#[B, H, D, D]\n",
    "atten_matrix1=atten_matrix1[0]#第一个样本\n",
    "atten_matrix2=atten_matrix2[0]#第一个样本\n",
    "plt.figure(figsize=[4.5,3.5])\n",
    "sn1=sns.heatmap(atten_matrix1.mean(axis=0),annot=True,annot_kws={\"font\":\"Times New Roman\",\"fontsize\":7})\n",
    "cbar = sn1.collections[0].colorbar\n",
    "cbar.ax.tick_params(labelsize=10)\n",
    "cbarlabels = cbar.ax.get_yticklabels() \n",
    "[label.set_fontname('Times New Roman') for label in cbarlabels]\n",
    "plt.xticks(fontproperties='Times New Roman', size=10)\n",
    "plt.yticks(fontproperties='Times New Roman', size=10)\n",
    "\n",
    "plt.figure(figsize=[4.5,3.5])\n",
    "sn2=sns.heatmap(atten_matrix2.mean(axis=0),annot=True,annot_kws={\"font\":\"Times New Roman\",\"fontsize\":7})\n",
    "cbar = sn2.collections[0].colorbar\n",
    "cbar.ax.tick_params(labelsize=10)\n",
    "cbarlabels = cbar.ax.get_yticklabels() \n",
    "[label.set_fontname('Times New Roman') for label in cbarlabels]\n",
    "plt.xticks(fontproperties='Times New Roman', size=10)\n",
    "plt.yticks(fontproperties='Times New Roman', size=10)"
   ]
  }
 ],
 "metadata": {
  "kernelspec": {
   "display_name": "PyTc",
   "language": "python",
   "name": "python3"
  },
  "language_info": {
   "codemirror_mode": {
    "name": "ipython",
    "version": 3
   },
   "file_extension": ".py",
   "mimetype": "text/x-python",
   "name": "python",
   "nbconvert_exporter": "python",
   "pygments_lexer": "ipython3",
   "version": "3.7.10"
  }
 },
 "nbformat": 4,
 "nbformat_minor": 2
}
